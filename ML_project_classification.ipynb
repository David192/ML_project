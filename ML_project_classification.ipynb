{
 "cells": [
  {
   "attachments": {},
   "cell_type": "markdown",
   "id": "a32f0423",
   "metadata": {},
   "source": [
    "## Packages"
   ]
  },
  {
   "cell_type": "code",
   "execution_count": 2,
   "id": "29a8f074",
   "metadata": {},
   "outputs": [
    {
     "name": "stdout",
     "output_type": "stream",
     "text": [
      "Requirement already satisfied: xgboost in c:\\users\\david sofer\\anaconda3\\lib\\site-packages (1.7.5)\n",
      "Requirement already satisfied: scipy in c:\\users\\david sofer\\anaconda3\\lib\\site-packages (from xgboost) (1.7.1)\n",
      "Requirement already satisfied: numpy in c:\\users\\david sofer\\anaconda3\\lib\\site-packages (from xgboost) (1.20.3)\n"
     ]
    }
   ],
   "source": [
    "!pip install xgboost\n",
    "\n",
    "from datetime import datetime, timedelta\n",
    "import pandas as pd\n",
    "import numpy as np\n",
    "import matplotlib.pyplot as plt\n",
    "import xgboost as xgb\n",
    "\n",
    "%matplotlib inline\n",
    "\n",
    "from datetime import datetime, timedelta\n",
    "from sklearn.model_selection import train_test_split\n",
    "from sklearn.preprocessing import LabelEncoder\n",
    "from sklearn.model_selection import train_test_split\n",
    "\n",
    "from sklearn.preprocessing import StandardScaler\n",
    "from sklearn.neighbors import KNeighborsRegressor\n",
    "from sklearn.model_selection import GridSearchCV\n",
    "from sklearn.metrics import mean_squared_error, mean_absolute_error, r2_score\n",
    "from sklearn.linear_model import ElasticNet\n",
    "from sklearn.ensemble import RandomForestRegressor\n",
    "from sklearn.ensemble import RandomForestClassifier\n",
    "from sklearn.linear_model import LinearRegression\n",
    "from sklearn.datasets import load_boston\n",
    "from sklearn.tree import DecisionTreeRegressor\n",
    "from sklearn.linear_model import LogisticRegression\n",
    "from sklearn.metrics import accuracy_score, precision_score, recall_score, f1_score\n",
    "from sklearn.preprocessing import OneHotEncoder\n",
    "from sklearn.tree import DecisionTreeClassifier\n",
    "\n",
    "# from keras.models import Sequential\n",
    "# from keras.layers import Dense"
   ]
  },
  {
   "attachments": {},
   "cell_type": "markdown",
   "id": "a902774b",
   "metadata": {},
   "source": [
    "## Load the data"
   ]
  },
  {
   "cell_type": "code",
   "execution_count": 3,
   "id": "3e28cab2",
   "metadata": {
    "scrolled": true
   },
   "outputs": [],
   "source": [
    "df = pd.read_csv(\"E-scooter_data_2020.csv\", dtype=str)\n",
    "# we can remove the rows that contains null values- because we have a lot of other data\n",
    "# in addition, null value mean that the station wasn't in Chicago\n",
    "df = df.dropna()"
   ]
  },
  {
   "attachments": {},
   "cell_type": "markdown",
   "id": "63c53d42",
   "metadata": {},
   "source": [
    "# Convert data to a suitable format date"
   ]
  },
  {
   "cell_type": "code",
   "execution_count": 4,
   "id": "ef04bdc2",
   "metadata": {},
   "outputs": [],
   "source": [
    "# Convert the End Time column to datetime objects\n",
    "df['End Time'] = pd.to_datetime(df['End Time'])\n",
    "df['Start Time'] = pd.to_datetime(df['Start Time'])\n",
    "# Extract the hour, minute, and second features from the datetime objects\n",
    "df['End Hour'] = df['End Time'].dt.hour\n",
    "df['start Hour'] = df['Start Time'].dt.hour\n",
    "df[\"start_day\"] = df[\"Start Time\"].apply(lambda x : x.strftime('%A'))\n",
    "# Remove the original End Time column\n",
    "df.drop('End Time', axis=1, inplace=True)\n",
    "df.drop('Start Time', axis=1, inplace=True)"
   ]
  },
  {
   "cell_type": "code",
   "execution_count": 5,
   "id": "9eaf1117",
   "metadata": {},
   "outputs": [
    {
     "data": {
      "text/html": [
       "<div>\n",
       "<style scoped>\n",
       "    .dataframe tbody tr th:only-of-type {\n",
       "        vertical-align: middle;\n",
       "    }\n",
       "\n",
       "    .dataframe tbody tr th {\n",
       "        vertical-align: top;\n",
       "    }\n",
       "\n",
       "    .dataframe thead th {\n",
       "        text-align: right;\n",
       "    }\n",
       "</style>\n",
       "<table border=\"1\" class=\"dataframe\">\n",
       "  <thead>\n",
       "    <tr style=\"text-align: right;\">\n",
       "      <th></th>\n",
       "      <th>Trip ID</th>\n",
       "      <th>Trip Distance</th>\n",
       "      <th>Trip Duration</th>\n",
       "      <th>Vendor</th>\n",
       "      <th>Start Community Area Number</th>\n",
       "      <th>End Community Area Number</th>\n",
       "      <th>Start Community Area Name</th>\n",
       "      <th>End Community Area Name</th>\n",
       "      <th>Start Centroid Latitude</th>\n",
       "      <th>Start Centroid Longitude</th>\n",
       "      <th>Start Centroid Location</th>\n",
       "      <th>End Centroid Latitude</th>\n",
       "      <th>End Centroid Longitude</th>\n",
       "      <th>End Centroid Location</th>\n",
       "      <th>End Hour</th>\n",
       "      <th>start Hour</th>\n",
       "      <th>start_day</th>\n",
       "    </tr>\n",
       "  </thead>\n",
       "  <tbody>\n",
       "    <tr>\n",
       "      <th>0</th>\n",
       "      <td>3eb9a2a3-3266-4559-b1ec-e83a6f7972ab</td>\n",
       "      <td>1153</td>\n",
       "      <td>1027</td>\n",
       "      <td>spin</td>\n",
       "      <td>68</td>\n",
       "      <td>68</td>\n",
       "      <td>ENGLEWOOD</td>\n",
       "      <td>ENGLEWOOD</td>\n",
       "      <td>41.78006847</td>\n",
       "      <td>-87.64226608</td>\n",
       "      <td>POINT (-87.64226608 41.78006847)</td>\n",
       "      <td>41.78006847</td>\n",
       "      <td>-87.64226608</td>\n",
       "      <td>POINT (-87.64226608 41.78006847)</td>\n",
       "      <td>5</td>\n",
       "      <td>5</td>\n",
       "      <td>Wednesday</td>\n",
       "    </tr>\n",
       "    <tr>\n",
       "      <th>1</th>\n",
       "      <td>82dd7b8f-8de0-4f25-829b-b32bf47e8419</td>\n",
       "      <td>17</td>\n",
       "      <td>91</td>\n",
       "      <td>spin</td>\n",
       "      <td>22</td>\n",
       "      <td>21</td>\n",
       "      <td>LOGAN SQUARE</td>\n",
       "      <td>AVONDALE</td>\n",
       "      <td>41.92290349</td>\n",
       "      <td>-87.70430082</td>\n",
       "      <td>POINT (-87.70430082 41.92290349)</td>\n",
       "      <td>41.93928256</td>\n",
       "      <td>-87.71075685</td>\n",
       "      <td>POINT (-87.71075685 41.93928256)</td>\n",
       "      <td>5</td>\n",
       "      <td>5</td>\n",
       "      <td>Wednesday</td>\n",
       "    </tr>\n",
       "    <tr>\n",
       "      <th>2</th>\n",
       "      <td>9120cbf3-f749-49b6-b894-0e6e065cd731</td>\n",
       "      <td>2883</td>\n",
       "      <td>724</td>\n",
       "      <td>spin</td>\n",
       "      <td>3</td>\n",
       "      <td>6</td>\n",
       "      <td>UPTOWN</td>\n",
       "      <td>LAKE VIEW</td>\n",
       "      <td>41.96543532</td>\n",
       "      <td>-87.65514456</td>\n",
       "      <td>POINT (-87.65514456 41.96543532)</td>\n",
       "      <td>41.9435138</td>\n",
       "      <td>-87.65749768</td>\n",
       "      <td>POINT (-87.65749768 41.9435138)</td>\n",
       "      <td>5</td>\n",
       "      <td>5</td>\n",
       "      <td>Wednesday</td>\n",
       "    </tr>\n",
       "    <tr>\n",
       "      <th>3</th>\n",
       "      <td>cf2e4abc-2649-49be-924b-468a1aefc4c8</td>\n",
       "      <td>5</td>\n",
       "      <td>21</td>\n",
       "      <td>spin</td>\n",
       "      <td>31</td>\n",
       "      <td>31</td>\n",
       "      <td>LOWER WEST SIDE</td>\n",
       "      <td>LOWER WEST SIDE</td>\n",
       "      <td>41.84833501</td>\n",
       "      <td>-87.67517932</td>\n",
       "      <td>POINT (-87.67517932 41.84833501)</td>\n",
       "      <td>41.84833501</td>\n",
       "      <td>-87.67517932</td>\n",
       "      <td>POINT (-87.67517932 41.84833501)</td>\n",
       "      <td>5</td>\n",
       "      <td>5</td>\n",
       "      <td>Wednesday</td>\n",
       "    </tr>\n",
       "    <tr>\n",
       "      <th>4</th>\n",
       "      <td>0448afb5-ab64-4090-b528-e3050e7eb0f2</td>\n",
       "      <td>1179</td>\n",
       "      <td>245</td>\n",
       "      <td>spin</td>\n",
       "      <td>6</td>\n",
       "      <td>6</td>\n",
       "      <td>LAKE VIEW</td>\n",
       "      <td>LAKE VIEW</td>\n",
       "      <td>41.9435138</td>\n",
       "      <td>-87.65749768</td>\n",
       "      <td>POINT (-87.65749768 41.9435138)</td>\n",
       "      <td>41.9435138</td>\n",
       "      <td>-87.65749768</td>\n",
       "      <td>POINT (-87.65749768 41.9435138)</td>\n",
       "      <td>7</td>\n",
       "      <td>7</td>\n",
       "      <td>Wednesday</td>\n",
       "    </tr>\n",
       "    <tr>\n",
       "      <th>...</th>\n",
       "      <td>...</td>\n",
       "      <td>...</td>\n",
       "      <td>...</td>\n",
       "      <td>...</td>\n",
       "      <td>...</td>\n",
       "      <td>...</td>\n",
       "      <td>...</td>\n",
       "      <td>...</td>\n",
       "      <td>...</td>\n",
       "      <td>...</td>\n",
       "      <td>...</td>\n",
       "      <td>...</td>\n",
       "      <td>...</td>\n",
       "      <td>...</td>\n",
       "      <td>...</td>\n",
       "      <td>...</td>\n",
       "      <td>...</td>\n",
       "    </tr>\n",
       "    <tr>\n",
       "      <th>630811</th>\n",
       "      <td>2c648499-436a-4244-bf2b-ce0041ee4129</td>\n",
       "      <td>4226</td>\n",
       "      <td>1327</td>\n",
       "      <td>lime</td>\n",
       "      <td>11</td>\n",
       "      <td>11</td>\n",
       "      <td>JEFFERSON PARK</td>\n",
       "      <td>JEFFERSON PARK</td>\n",
       "      <td>41.97872681</td>\n",
       "      <td>-87.76814656</td>\n",
       "      <td>POINT (-87.76814656 41.97872681)</td>\n",
       "      <td>41.97872681</td>\n",
       "      <td>-87.76814656</td>\n",
       "      <td>POINT (-87.76814656 41.97872681)</td>\n",
       "      <td>22</td>\n",
       "      <td>21</td>\n",
       "      <td>Saturday</td>\n",
       "    </tr>\n",
       "    <tr>\n",
       "      <th>630812</th>\n",
       "      <td>72119cd3-18db-4a08-8da7-1639a6894a18</td>\n",
       "      <td>1822</td>\n",
       "      <td>211</td>\n",
       "      <td>spin</td>\n",
       "      <td>3</td>\n",
       "      <td>3</td>\n",
       "      <td>UPTOWN</td>\n",
       "      <td>UPTOWN</td>\n",
       "      <td>41.96543532</td>\n",
       "      <td>-87.65514456</td>\n",
       "      <td>POINT (-87.65514456 41.96543532)</td>\n",
       "      <td>41.96543532</td>\n",
       "      <td>-87.65514456</td>\n",
       "      <td>POINT (-87.65514456 41.96543532)</td>\n",
       "      <td>21</td>\n",
       "      <td>21</td>\n",
       "      <td>Saturday</td>\n",
       "    </tr>\n",
       "    <tr>\n",
       "      <th>630813</th>\n",
       "      <td>1e01298b-75e3-4a22-b440-388b093f7202</td>\n",
       "      <td>878</td>\n",
       "      <td>325</td>\n",
       "      <td>lime</td>\n",
       "      <td>28</td>\n",
       "      <td>24</td>\n",
       "      <td>NEAR WEST SIDE</td>\n",
       "      <td>WEST TOWN</td>\n",
       "      <td>41.87425419</td>\n",
       "      <td>-87.66461906</td>\n",
       "      <td>POINT (-87.66461906 41.87425419)</td>\n",
       "      <td>41.90145875</td>\n",
       "      <td>-87.67556756</td>\n",
       "      <td>POINT (-87.67556756 41.90145875)</td>\n",
       "      <td>22</td>\n",
       "      <td>21</td>\n",
       "      <td>Saturday</td>\n",
       "    </tr>\n",
       "    <tr>\n",
       "      <th>630814</th>\n",
       "      <td>cce935b2-3dc8-4e06-b913-a1fd37c652d0</td>\n",
       "      <td>294</td>\n",
       "      <td>1332</td>\n",
       "      <td>bird</td>\n",
       "      <td>7</td>\n",
       "      <td>7</td>\n",
       "      <td>LINCOLN PARK</td>\n",
       "      <td>LINCOLN PARK</td>\n",
       "      <td>41.92188043</td>\n",
       "      <td>-87.64564651</td>\n",
       "      <td>POINT (-87.64564651 41.92188043)</td>\n",
       "      <td>41.92188043</td>\n",
       "      <td>-87.64564651</td>\n",
       "      <td>POINT (-87.64564651 41.92188043)</td>\n",
       "      <td>22</td>\n",
       "      <td>21</td>\n",
       "      <td>Saturday</td>\n",
       "    </tr>\n",
       "    <tr>\n",
       "      <th>630815</th>\n",
       "      <td>758cd2bd-45da-4c2c-b73a-8a07de69bd22</td>\n",
       "      <td>5403</td>\n",
       "      <td>2341</td>\n",
       "      <td>spin</td>\n",
       "      <td>6</td>\n",
       "      <td>6</td>\n",
       "      <td>LAKE VIEW</td>\n",
       "      <td>LAKE VIEW</td>\n",
       "      <td>41.9435138</td>\n",
       "      <td>-87.65749768</td>\n",
       "      <td>POINT (-87.65749768 41.9435138)</td>\n",
       "      <td>41.9435138</td>\n",
       "      <td>-87.65749768</td>\n",
       "      <td>POINT (-87.65749768 41.9435138)</td>\n",
       "      <td>22</td>\n",
       "      <td>21</td>\n",
       "      <td>Saturday</td>\n",
       "    </tr>\n",
       "  </tbody>\n",
       "</table>\n",
       "<p>629175 rows × 17 columns</p>\n",
       "</div>"
      ],
      "text/plain": [
       "                                     Trip ID Trip Distance Trip Duration  \\\n",
       "0       3eb9a2a3-3266-4559-b1ec-e83a6f7972ab          1153          1027   \n",
       "1       82dd7b8f-8de0-4f25-829b-b32bf47e8419            17            91   \n",
       "2       9120cbf3-f749-49b6-b894-0e6e065cd731          2883           724   \n",
       "3       cf2e4abc-2649-49be-924b-468a1aefc4c8             5            21   \n",
       "4       0448afb5-ab64-4090-b528-e3050e7eb0f2          1179           245   \n",
       "...                                      ...           ...           ...   \n",
       "630811  2c648499-436a-4244-bf2b-ce0041ee4129          4226          1327   \n",
       "630812  72119cd3-18db-4a08-8da7-1639a6894a18          1822           211   \n",
       "630813  1e01298b-75e3-4a22-b440-388b093f7202           878           325   \n",
       "630814  cce935b2-3dc8-4e06-b913-a1fd37c652d0           294          1332   \n",
       "630815  758cd2bd-45da-4c2c-b73a-8a07de69bd22          5403          2341   \n",
       "\n",
       "       Vendor Start Community Area Number End Community Area Number  \\\n",
       "0        spin                          68                        68   \n",
       "1        spin                          22                        21   \n",
       "2        spin                           3                         6   \n",
       "3        spin                          31                        31   \n",
       "4        spin                           6                         6   \n",
       "...       ...                         ...                       ...   \n",
       "630811   lime                          11                        11   \n",
       "630812   spin                           3                         3   \n",
       "630813   lime                          28                        24   \n",
       "630814   bird                           7                         7   \n",
       "630815   spin                           6                         6   \n",
       "\n",
       "       Start Community Area Name End Community Area Name  \\\n",
       "0                      ENGLEWOOD               ENGLEWOOD   \n",
       "1                   LOGAN SQUARE                AVONDALE   \n",
       "2                         UPTOWN               LAKE VIEW   \n",
       "3                LOWER WEST SIDE         LOWER WEST SIDE   \n",
       "4                      LAKE VIEW               LAKE VIEW   \n",
       "...                          ...                     ...   \n",
       "630811            JEFFERSON PARK          JEFFERSON PARK   \n",
       "630812                    UPTOWN                  UPTOWN   \n",
       "630813            NEAR WEST SIDE               WEST TOWN   \n",
       "630814              LINCOLN PARK            LINCOLN PARK   \n",
       "630815                 LAKE VIEW               LAKE VIEW   \n",
       "\n",
       "       Start Centroid Latitude Start Centroid Longitude  \\\n",
       "0                  41.78006847             -87.64226608   \n",
       "1                  41.92290349             -87.70430082   \n",
       "2                  41.96543532             -87.65514456   \n",
       "3                  41.84833501             -87.67517932   \n",
       "4                   41.9435138             -87.65749768   \n",
       "...                        ...                      ...   \n",
       "630811             41.97872681             -87.76814656   \n",
       "630812             41.96543532             -87.65514456   \n",
       "630813             41.87425419             -87.66461906   \n",
       "630814             41.92188043             -87.64564651   \n",
       "630815              41.9435138             -87.65749768   \n",
       "\n",
       "                 Start Centroid Location End Centroid Latitude  \\\n",
       "0       POINT (-87.64226608 41.78006847)           41.78006847   \n",
       "1       POINT (-87.70430082 41.92290349)           41.93928256   \n",
       "2       POINT (-87.65514456 41.96543532)            41.9435138   \n",
       "3       POINT (-87.67517932 41.84833501)           41.84833501   \n",
       "4        POINT (-87.65749768 41.9435138)            41.9435138   \n",
       "...                                  ...                   ...   \n",
       "630811  POINT (-87.76814656 41.97872681)           41.97872681   \n",
       "630812  POINT (-87.65514456 41.96543532)           41.96543532   \n",
       "630813  POINT (-87.66461906 41.87425419)           41.90145875   \n",
       "630814  POINT (-87.64564651 41.92188043)           41.92188043   \n",
       "630815   POINT (-87.65749768 41.9435138)            41.9435138   \n",
       "\n",
       "       End Centroid Longitude             End Centroid Location  End Hour  \\\n",
       "0                -87.64226608  POINT (-87.64226608 41.78006847)         5   \n",
       "1                -87.71075685  POINT (-87.71075685 41.93928256)         5   \n",
       "2                -87.65749768   POINT (-87.65749768 41.9435138)         5   \n",
       "3                -87.67517932  POINT (-87.67517932 41.84833501)         5   \n",
       "4                -87.65749768   POINT (-87.65749768 41.9435138)         7   \n",
       "...                       ...                               ...       ...   \n",
       "630811           -87.76814656  POINT (-87.76814656 41.97872681)        22   \n",
       "630812           -87.65514456  POINT (-87.65514456 41.96543532)        21   \n",
       "630813           -87.67556756  POINT (-87.67556756 41.90145875)        22   \n",
       "630814           -87.64564651  POINT (-87.64564651 41.92188043)        22   \n",
       "630815           -87.65749768   POINT (-87.65749768 41.9435138)        22   \n",
       "\n",
       "        start Hour  start_day  \n",
       "0                5  Wednesday  \n",
       "1                5  Wednesday  \n",
       "2                5  Wednesday  \n",
       "3                5  Wednesday  \n",
       "4                7  Wednesday  \n",
       "...            ...        ...  \n",
       "630811          21   Saturday  \n",
       "630812          21   Saturday  \n",
       "630813          21   Saturday  \n",
       "630814          21   Saturday  \n",
       "630815          21   Saturday  \n",
       "\n",
       "[629175 rows x 17 columns]"
      ]
     },
     "execution_count": 5,
     "metadata": {},
     "output_type": "execute_result"
    }
   ],
   "source": [
    "df"
   ]
  },
  {
   "attachments": {},
   "cell_type": "markdown",
   "id": "c3ef19b9",
   "metadata": {},
   "source": [
    "# Predict vendor with start area"
   ]
  },
  {
   "cell_type": "code",
   "execution_count": 128,
   "id": "d5fa5c8c",
   "metadata": {},
   "outputs": [],
   "source": [
    "x_start_area=df[['Start Community Area Name']]\n",
    "Y_vendor=df[['Vendor']]\n",
    "X_train_sa, X_test_sa, y_train_vendor, y_test_vendor = train_test_split(x_start_area, Y_vendor, test_size=0.2, random_state=42)"
   ]
  },
  {
   "cell_type": "code",
   "execution_count": 11,
   "id": "0926ca81",
   "metadata": {},
   "outputs": [
    {
     "ename": "NameError",
     "evalue": "name 'X_train_sa' is not defined",
     "output_type": "error",
     "traceback": [
      "\u001b[1;31m---------------------------------------------------------------------------\u001b[0m",
      "\u001b[1;31mNameError\u001b[0m                                 Traceback (most recent call last)",
      "Cell \u001b[1;32mIn[11], line 3\u001b[0m\n\u001b[0;32m      1\u001b[0m x_encoder \u001b[39m=\u001b[39m OneHotEncoder()\n\u001b[0;32m      2\u001b[0m y_encoder \u001b[39m=\u001b[39m LabelEncoder()\n\u001b[1;32m----> 3\u001b[0m X_train_encoded_sa \u001b[39m=\u001b[39m x_encoder\u001b[39m.\u001b[39mfit_transform(X_train_sa)\u001b[39m.\u001b[39mtoarray()\n\u001b[0;32m      4\u001b[0m X_test_encoded_sa \u001b[39m=\u001b[39m x_encoder\u001b[39m.\u001b[39mtransform(X_test_sa)\u001b[39m.\u001b[39mtoarray()\n\u001b[0;32m      5\u001b[0m y_train_encoded_vendor \u001b[39m=\u001b[39m y_encoder\u001b[39m.\u001b[39mfit_transform(y_train_vendor\u001b[39m.\u001b[39mvalues\u001b[39m.\u001b[39mravel())\n",
      "\u001b[1;31mNameError\u001b[0m: name 'X_train_sa' is not defined"
     ]
    }
   ],
   "source": [
    "x_encoder = OneHotEncoder()\n",
    "y_encoder = LabelEncoder()\n",
    "X_train_encoded_sa = x_encoder.fit_transform(X_train_sa).toarray()\n",
    "X_test_encoded_sa = x_encoder.transform(X_test_sa).toarray()\n",
    "y_train_encoded_vendor = y_encoder.fit_transform(y_train_vendor.values.ravel())\n",
    "y_test_encoded_vendor = y_encoder.transform(y_test_vendor.values.ravel())"
   ]
  },
  {
   "cell_type": "code",
   "execution_count": 130,
   "id": "597c726e",
   "metadata": {},
   "outputs": [],
   "source": [
    "# Random Forest model\n",
    "rf_model = RandomForestClassifier()\n",
    "rf_model.fit(X_train_encoded_sa, y_train_encoded_vendor)\n",
    "rf_predictions_vendor = rf_model.predict(X_test_encoded_sa)\n",
    "# Inverse transform the predicted labels\n",
    "rf_pred_labels_vendor = y_encoder.inverse_transform(rf_predictions_vendor)\n",
    "accuracy_rf_vendor = accuracy_score(y_test_vendor, rf_pred_labels_vendor)"
   ]
  },
  {
   "cell_type": "code",
   "execution_count": 131,
   "id": "d17a3730",
   "metadata": {},
   "outputs": [],
   "source": [
    "# Decision Tree model\n",
    "dt_model = DecisionTreeClassifier()\n",
    "dt_model.fit(X_train_encoded_sa, y_train_encoded_vendor)\n",
    "dt_predictions_vendor = dt_model.predict(X_test_encoded_sa)\n",
    "# Inverse transform the predicted labels\n",
    "dt_pred_labels_vendor = y_encoder.inverse_transform(dt_predictions_vendor)\n",
    "dt_accuracy_vendor = accuracy_score(y_test_vendor, dt_pred_labels_vendor)"
   ]
  },
  {
   "cell_type": "code",
   "execution_count": 132,
   "id": "45ca9293",
   "metadata": {},
   "outputs": [
    {
     "name": "stderr",
     "output_type": "stream",
     "text": [
      "/Users/netanelgo/opt/anaconda3/lib/python3.9/site-packages/sklearn/linear_model/_logistic.py:763: ConvergenceWarning: lbfgs failed to converge (status=1):\n",
      "STOP: TOTAL NO. of ITERATIONS REACHED LIMIT.\n",
      "\n",
      "Increase the number of iterations (max_iter) or scale the data as shown in:\n",
      "    https://scikit-learn.org/stable/modules/preprocessing.html\n",
      "Please also refer to the documentation for alternative solver options:\n",
      "    https://scikit-learn.org/stable/modules/linear_model.html#logistic-regression\n",
      "  n_iter_i = _check_optimize_result(\n"
     ]
    }
   ],
   "source": [
    "# Logistic Regression model\n",
    "lr_model = LogisticRegression()\n",
    "lr_model.fit(X_train_encoded_sa, y_train_encoded_vendor)\n",
    "lr_predictions_vendor = lr_model.predict(X_test_encoded_sa)\n",
    "# Inverse transform the predicted labels\n",
    "lr_pred_labels_vendor = y_encoder.inverse_transform(lr_predictions_vendor)\n",
    "lr_accuracy_vendor = accuracy_score(y_test_vendor, lr_pred_labels_vendor) "
   ]
  },
  {
   "cell_type": "code",
   "execution_count": 133,
   "id": "ef7b0535",
   "metadata": {},
   "outputs": [
    {
     "name": "stdout",
     "output_type": "stream",
     "text": [
      "Accuracy RF: 0.4913895180196289\n",
      "Decision Tree Accuracy: 0.4913895180196289\n",
      "Logistic Regression Accuracy: 0.4913895180196289\n"
     ]
    }
   ],
   "source": [
    "print(\"Accuracy RF:\", accuracy_rf_vendor)\n",
    "print(\"Decision Tree Accuracy:\", dt_accuracy_vendor)\n",
    "print(\"Logistic Regression Accuracy:\", lr_accuracy_vendor)"
   ]
  },
  {
   "attachments": {},
   "cell_type": "markdown",
   "id": "38885b83",
   "metadata": {},
   "source": [
    "# Predict End Area"
   ]
  },
  {
   "cell_type": "code",
   "execution_count": 134,
   "id": "cf27597d",
   "metadata": {},
   "outputs": [],
   "source": [
    "x_start_area_day=df[['Start Community Area Name', \"start_day\"]]\n",
    "Y_end_area=df[['End Community Area Name']]\n",
    "X_train_sad, X_test_sad, y_train_end, y_test_end = train_test_split(x_start_area_day, Y_end_area, test_size=0.2, random_state=42)"
   ]
  },
  {
   "cell_type": "code",
   "execution_count": 135,
   "id": "e097b5de",
   "metadata": {},
   "outputs": [],
   "source": [
    "X_train_encoded_sad = x_encoder.fit_transform(X_train_sad).toarray()\n",
    "X_test_encoded_sad = x_encoder.transform(X_test_sad).toarray()\n",
    "y_train_encoded_end = y_encoder.fit_transform(y_train_end.values.ravel())\n",
    "y_test_encoded_end = y_encoder.transform(y_test_end.values.ravel())"
   ]
  },
  {
   "cell_type": "code",
   "execution_count": 136,
   "id": "b3a606a2",
   "metadata": {},
   "outputs": [],
   "source": [
    "# Random Forest model\n",
    "rf_model.fit(X_train_encoded_sad, y_train_encoded_end)\n",
    "rf_predictions_end = rf_model.predict(X_test_encoded_sad)\n",
    "# Inverse transform the predicted labels\n",
    "rf_pred_labels_end = y_encoder.inverse_transform(rf_predictions_end)\n",
    "accuracy_rf_end = accuracy_score(y_test_end, rf_pred_labels_end)"
   ]
  },
  {
   "cell_type": "code",
   "execution_count": 137,
   "id": "7cca0c0e",
   "metadata": {},
   "outputs": [],
   "source": [
    "# Decision Tree model\n",
    "dt_model.fit(X_train_encoded_sad, y_train_encoded_end)\n",
    "dt_predictions_end = dt_model.predict(X_test_encoded_sad)\n",
    "# Inverse transform the predicted labels\n",
    "dt_pred_labels_end = y_encoder.inverse_transform(dt_predictions_end)\n",
    "dt_accuracy_end = accuracy_score(y_test_end, dt_pred_labels_end)"
   ]
  },
  {
   "cell_type": "code",
   "execution_count": 138,
   "id": "2971f61c",
   "metadata": {},
   "outputs": [
    {
     "name": "stderr",
     "output_type": "stream",
     "text": [
      "/Users/netanelgo/opt/anaconda3/lib/python3.9/site-packages/sklearn/linear_model/_logistic.py:763: ConvergenceWarning: lbfgs failed to converge (status=1):\n",
      "STOP: TOTAL NO. of ITERATIONS REACHED LIMIT.\n",
      "\n",
      "Increase the number of iterations (max_iter) or scale the data as shown in:\n",
      "    https://scikit-learn.org/stable/modules/preprocessing.html\n",
      "Please also refer to the documentation for alternative solver options:\n",
      "    https://scikit-learn.org/stable/modules/linear_model.html#logistic-regression\n",
      "  n_iter_i = _check_optimize_result(\n"
     ]
    }
   ],
   "source": [
    "# Logistic Regression model\n",
    "lr_model.fit(X_train_encoded_sad, y_train_encoded_end)\n",
    "lr_predictions_end = lr_model.predict(X_test_encoded_sad)\n",
    "# Inverse transform the predicted labels\n",
    "lr_pred_labels_end = y_encoder.inverse_transform(lr_predictions_end)\n",
    "lr_accuracy_end = accuracy_score(y_test_end, lr_pred_labels_end) "
   ]
  },
  {
   "cell_type": "code",
   "execution_count": 139,
   "id": "2915611a",
   "metadata": {},
   "outputs": [
    {
     "name": "stdout",
     "output_type": "stream",
     "text": [
      "Accuracy RF: 0.700472841419319\n",
      "Decision Tree Accuracy: 0.700472841419319\n",
      "Logistic Regression Accuracy: 0.700631779711527\n"
     ]
    }
   ],
   "source": [
    "print(\"Accuracy RF:\", accuracy_rf_end)\n",
    "print(\"Decision Tree Accuracy:\", dt_accuracy_end)\n",
    "print(\"Logistic Regression Accuracy:\", lr_accuracy_end)"
   ]
  },
  {
   "attachments": {},
   "cell_type": "markdown",
   "id": "015b3b88",
   "metadata": {},
   "source": [
    "## Predict End community area by Start community area and start hour"
   ]
  },
  {
   "cell_type": "code",
   "execution_count": 6,
   "id": "53f9b673",
   "metadata": {},
   "outputs": [],
   "source": [
    "x =df[['Start Community Area Name', \"start Hour\"]]\n",
    "Y =df[['End Community Area Name']]\n",
    "X_train , X_test , y_train , y_test  = train_test_split(x , Y , test_size=0.2, random_state=42)"
   ]
  },
  {
   "cell_type": "code",
   "execution_count": 7,
   "id": "73d1f8ee",
   "metadata": {},
   "outputs": [],
   "source": [
    "x_encoder = OneHotEncoder()\n",
    "y_encoder = LabelEncoder()\n",
    "X_train = x_encoder.fit_transform(X_train).toarray()\n",
    "X_test = x_encoder.transform(X_test).toarray()\n",
    "y_train = y_encoder.fit_transform(y_train.values.ravel())\n",
    "y_test = y_encoder.transform(y_test.values.ravel())"
   ]
  },
  {
   "cell_type": "code",
   "execution_count": 8,
   "id": "5eab0592",
   "metadata": {},
   "outputs": [],
   "source": [
    "# XGBoost model\n",
    "dtrain = xgb.DMatrix(X_train, label=y_train)\n",
    "dtest = xgb.DMatrix(X_test, label=y_test)\n",
    "\n",
    "# Parameters for XGBoost model\n",
    "params = {\n",
    "    'objective': 'multi:softmax',  \n",
    "    'num_class': len(df['End Community Area Name'].unique()),  \n",
    "    'max_depth': 3,  \n",
    "    'eta': 0.1,  \n",
    "    'seed': 42  \n",
    "}\n",
    "\n",
    "\n",
    "num_rounds = 100  \n",
    "model = xgb.train(params, dtrain, num_rounds)\n",
    "\n",
    "y_pred = model.predict(dtest)\n",
    "\n"
   ]
  },
  {
   "cell_type": "code",
   "execution_count": null,
   "id": "b5e3a875",
   "metadata": {},
   "outputs": [
    {
     "name": "stdout",
     "output_type": "stream",
     "text": [
      "Mean Squared Error: 212.85178273135458\n"
     ]
    }
   ],
   "source": [
    "mse = mean_squared_error(y_test, y_pred)\n",
    "print(\"Mean Squared Error:\", mse)"
   ]
  },
  {
   "cell_type": "code",
   "execution_count": null,
   "id": "425cb0e9",
   "metadata": {},
   "outputs": [],
   "source": [
    "#KNN regressor model\n",
    "knn = KNeighborsRegressor(n_neighbors=5)  \n",
    "knn.fit(X_train, y_train)\n",
    "\n",
    "\n",
    "y_pred = knn.predict(X_test)"
   ]
  },
  {
   "cell_type": "code",
   "execution_count": null,
   "id": "7221954a",
   "metadata": {},
   "outputs": [
    {
     "name": "stdout",
     "output_type": "stream",
     "text": [
      "Mean Squared Error: 212.85178273135458\n"
     ]
    }
   ],
   "source": [
    "mse = mean_squared_error(y_test, y_pred)\n",
    "print(\"Mean Squared Error:\", mse)"
   ]
  }
 ],
 "metadata": {
  "kernelspec": {
   "display_name": "Python 3 (ipykernel)",
   "language": "python",
   "name": "python3"
  },
  "language_info": {
   "codemirror_mode": {
    "name": "ipython",
    "version": 3
   },
   "file_extension": ".py",
   "mimetype": "text/x-python",
   "name": "python",
   "nbconvert_exporter": "python",
   "pygments_lexer": "ipython3",
   "version": "3.9.7"
  }
 },
 "nbformat": 4,
 "nbformat_minor": 5
}
